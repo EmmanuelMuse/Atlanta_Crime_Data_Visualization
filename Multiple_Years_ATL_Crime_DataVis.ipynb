{
 "cells": [
  {
   "attachments": {},
   "cell_type": "markdown",
   "metadata": {},
   "source": [
    "# Atlanta Crime Rate Data Visualization\n",
    "\n",
    "By: Emmanuel Muse\n",
    "\n",
    "My curiosity was the fuel behind this project, I wanted to focus on Atlanta crime rates to better determine how crime occurs across Atlanta, and to improve the general public of Atlanta's knowledge and answer any safety concerns. \n",
    "\n",
    "By utilizing the csv file published by the Atlanta Police Department's from 2017, I was able to produce multiple styling of graphs to display the data in a digestable format. The data consisted of information about the offense, the report date, occurance time and date, and possession time and date. It also included the location, number of maximum victims, shift day, day of the week, location type, crime type, neighborhood, and coordinates of each crime reported.\n"
   ]
  },
  {
   "attachments": {},
   "cell_type": "markdown",
   "metadata": {},
   "source": [
    "## Importing Libraries and Data"
   ]
  },
  {
   "attachments": {},
   "cell_type": "markdown",
   "metadata": {},
   "source": [
    "Import pandas, numpy, plotly and matplotlib libraries"
   ]
  },
  {
   "cell_type": "code",
   "execution_count": 3,
   "metadata": {
    "ExecuteTime": {
     "end_time": "2020-03-02T22:43:44.731163Z",
     "start_time": "2020-03-02T22:43:44.726735Z"
    },
    "scrolled": false
   },
   "outputs": [],
   "source": [
    "import pandas as pd\n",
    "import numpy as np\n",
    "import plotly.express as plty\n",
    "import matplotlib.pyplot as plt"
   ]
  },
  {
   "attachments": {},
   "cell_type": "markdown",
   "metadata": {},
   "source": [
    "Enable IPython to display matplotlib graphs."
   ]
  },
  {
   "cell_type": "code",
   "execution_count": 4,
   "metadata": {
    "ExecuteTime": {
     "end_time": "2020-03-02T22:43:45.558610Z",
     "start_time": "2020-03-02T22:43:45.537467Z"
    },
    "scrolled": false
   },
   "outputs": [],
   "source": [
    "%matplotlib inline\n",
    "from matplotlib import colors\n",
    "from matplotlib.ticker import PercentFormatter"
   ]
  },
  {
   "attachments": {},
   "cell_type": "markdown",
   "metadata": {},
   "source": [
    "Creating dataframes for each year of APD Crime Data"
   ]
  },
  {
   "cell_type": "code",
   "execution_count": 14,
   "metadata": {},
   "outputs": [],
   "source": [
    "#constructor function, crime_data_to_df, for turning different datasets into usable dataframes\n",
    "def crime_data_to_df(dataset_path, dataset_dates_columns, index_column_input):\n",
    "    crime_data = pd.read_csv(dataset_path, parse_dates = dataset_dates_columns, index_col = index_column_input)\n",
    "    return crime_data"
   ]
  },
  {
   "cell_type": "code",
   "execution_count": 5,
   "metadata": {},
   "outputs": [
    {
     "data": {
      "text/html": [
       "<div>\n",
       "<style scoped>\n",
       "    .dataframe tbody tr th:only-of-type {\n",
       "        vertical-align: middle;\n",
       "    }\n",
       "\n",
       "    .dataframe tbody tr th {\n",
       "        vertical-align: top;\n",
       "    }\n",
       "\n",
       "    .dataframe thead th {\n",
       "        text-align: right;\n",
       "    }\n",
       "</style>\n",
       "<table border=\"1\" class=\"dataframe\">\n",
       "  <thead>\n",
       "    <tr style=\"text-align: right;\">\n",
       "      <th></th>\n",
       "      <th>offense_id</th>\n",
       "      <th>rpt_date</th>\n",
       "      <th>occur_date</th>\n",
       "      <th>occur_time</th>\n",
       "      <th>poss_date</th>\n",
       "      <th>poss_time</th>\n",
       "      <th>beat</th>\n",
       "      <th>apt_office_prefix</th>\n",
       "      <th>apt_office_num</th>\n",
       "      <th>location</th>\n",
       "      <th>...</th>\n",
       "      <th>dispo_code</th>\n",
       "      <th>MaxOfnum_victims</th>\n",
       "      <th>Shift</th>\n",
       "      <th>Avg_Day</th>\n",
       "      <th>loc_type</th>\n",
       "      <th>UC2 Literal</th>\n",
       "      <th>neighborhood</th>\n",
       "      <th>npu</th>\n",
       "      <th>x</th>\n",
       "      <th>y</th>\n",
       "    </tr>\n",
       "    <tr>\n",
       "      <th>MI_PRINX</th>\n",
       "      <th></th>\n",
       "      <th></th>\n",
       "      <th></th>\n",
       "      <th></th>\n",
       "      <th></th>\n",
       "      <th></th>\n",
       "      <th></th>\n",
       "      <th></th>\n",
       "      <th></th>\n",
       "      <th></th>\n",
       "      <th></th>\n",
       "      <th></th>\n",
       "      <th></th>\n",
       "      <th></th>\n",
       "      <th></th>\n",
       "      <th></th>\n",
       "      <th></th>\n",
       "      <th></th>\n",
       "      <th></th>\n",
       "      <th></th>\n",
       "      <th></th>\n",
       "    </tr>\n",
       "  </thead>\n",
       "  <tbody>\n",
       "    <tr>\n",
       "      <th>8924155</th>\n",
       "      <td>173650072.0</td>\n",
       "      <td>2017-12-31</td>\n",
       "      <td>2017-12-30</td>\n",
       "      <td>23:15:00</td>\n",
       "      <td>2017-12-31</td>\n",
       "      <td>0:30:00</td>\n",
       "      <td>510</td>\n",
       "      <td>NaN</td>\n",
       "      <td>NaN</td>\n",
       "      <td>43 JESSE HILL JR DR NE</td>\n",
       "      <td>...</td>\n",
       "      <td>NaN</td>\n",
       "      <td>2.0</td>\n",
       "      <td>Morn</td>\n",
       "      <td>Sat</td>\n",
       "      <td>13.0</td>\n",
       "      <td>LARCENY-FROM VEHICLE</td>\n",
       "      <td>Downtown</td>\n",
       "      <td>M</td>\n",
       "      <td>-84.38013</td>\n",
       "      <td>33.75582</td>\n",
       "    </tr>\n",
       "    <tr>\n",
       "      <th>8924156</th>\n",
       "      <td>173650102.0</td>\n",
       "      <td>2017-12-31</td>\n",
       "      <td>2017-12-18</td>\n",
       "      <td>13:00:00</td>\n",
       "      <td>2017-12-30</td>\n",
       "      <td>22:00:00</td>\n",
       "      <td>501</td>\n",
       "      <td>NaN</td>\n",
       "      <td>NaN</td>\n",
       "      <td>1169 ATLANTIC DR NW</td>\n",
       "      <td>...</td>\n",
       "      <td>NaN</td>\n",
       "      <td>1.0</td>\n",
       "      <td>Unk</td>\n",
       "      <td>Unk</td>\n",
       "      <td>13.0</td>\n",
       "      <td>LARCENY-FROM VEHICLE</td>\n",
       "      <td>Home Park</td>\n",
       "      <td>E</td>\n",
       "      <td>-84.39745</td>\n",
       "      <td>33.78674</td>\n",
       "    </tr>\n",
       "    <tr>\n",
       "      <th>8924157</th>\n",
       "      <td>173650144.0</td>\n",
       "      <td>2017-12-31</td>\n",
       "      <td>2017-12-30</td>\n",
       "      <td>22:01:00</td>\n",
       "      <td>2017-12-31</td>\n",
       "      <td>1:00:00</td>\n",
       "      <td>303</td>\n",
       "      <td>NaN</td>\n",
       "      <td>NaN</td>\n",
       "      <td>633 PRYOR ST SW</td>\n",
       "      <td>...</td>\n",
       "      <td>NaN</td>\n",
       "      <td>1.0</td>\n",
       "      <td>Morn</td>\n",
       "      <td>Sat</td>\n",
       "      <td>18.0</td>\n",
       "      <td>LARCENY-FROM VEHICLE</td>\n",
       "      <td>Mechanicsville</td>\n",
       "      <td>V</td>\n",
       "      <td>-84.39486</td>\n",
       "      <td>33.73760</td>\n",
       "    </tr>\n",
       "    <tr>\n",
       "      <th>8924158</th>\n",
       "      <td>173650149.0</td>\n",
       "      <td>2017-12-31</td>\n",
       "      <td>2017-12-30</td>\n",
       "      <td>20:00:00</td>\n",
       "      <td>2017-12-31</td>\n",
       "      <td>1:06:00</td>\n",
       "      <td>507</td>\n",
       "      <td>NaN</td>\n",
       "      <td>NaN</td>\n",
       "      <td>333 NELSON ST SW</td>\n",
       "      <td>...</td>\n",
       "      <td>NaN</td>\n",
       "      <td>1.0</td>\n",
       "      <td>Eve</td>\n",
       "      <td>Sat</td>\n",
       "      <td>18.0</td>\n",
       "      <td>LARCENY-FROM VEHICLE</td>\n",
       "      <td>Castleberry Hill</td>\n",
       "      <td>M</td>\n",
       "      <td>-84.39887</td>\n",
       "      <td>33.75156</td>\n",
       "    </tr>\n",
       "    <tr>\n",
       "      <th>8924159</th>\n",
       "      <td>173650159.0</td>\n",
       "      <td>2017-12-31</td>\n",
       "      <td>2017-12-31</td>\n",
       "      <td>0:41:00</td>\n",
       "      <td>2017-12-31</td>\n",
       "      <td>0:48:00</td>\n",
       "      <td>409</td>\n",
       "      <td>NaN</td>\n",
       "      <td>NaN</td>\n",
       "      <td>2348 CASCADE RD SW</td>\n",
       "      <td>...</td>\n",
       "      <td>NaN</td>\n",
       "      <td>2.0</td>\n",
       "      <td>Morn</td>\n",
       "      <td>Sun</td>\n",
       "      <td>18.0</td>\n",
       "      <td>LARCENY-FROM VEHICLE</td>\n",
       "      <td>Adams Park</td>\n",
       "      <td>R</td>\n",
       "      <td>-84.46522</td>\n",
       "      <td>33.72146</td>\n",
       "    </tr>\n",
       "  </tbody>\n",
       "</table>\n",
       "<p>5 rows × 22 columns</p>\n",
       "</div>"
      ],
      "text/plain": [
       "           offense_id   rpt_date occur_date occur_time  poss_date poss_time  \\\n",
       "MI_PRINX                                                                      \n",
       "8924155   173650072.0 2017-12-31 2017-12-30   23:15:00 2017-12-31   0:30:00   \n",
       "8924156   173650102.0 2017-12-31 2017-12-18   13:00:00 2017-12-30  22:00:00   \n",
       "8924157   173650144.0 2017-12-31 2017-12-30   22:01:00 2017-12-31   1:00:00   \n",
       "8924158   173650149.0 2017-12-31 2017-12-30   20:00:00 2017-12-31   1:06:00   \n",
       "8924159   173650159.0 2017-12-31 2017-12-31    0:41:00 2017-12-31   0:48:00   \n",
       "\n",
       "          beat apt_office_prefix apt_office_num                location  ...  \\\n",
       "MI_PRINX                                                                 ...   \n",
       "8924155    510               NaN            NaN  43 JESSE HILL JR DR NE  ...   \n",
       "8924156    501               NaN            NaN     1169 ATLANTIC DR NW  ...   \n",
       "8924157    303               NaN            NaN         633 PRYOR ST SW  ...   \n",
       "8924158    507               NaN            NaN        333 NELSON ST SW  ...   \n",
       "8924159    409               NaN            NaN      2348 CASCADE RD SW  ...   \n",
       "\n",
       "          dispo_code MaxOfnum_victims Shift  Avg_Day loc_type  \\\n",
       "MI_PRINX                                                        \n",
       "8924155          NaN              2.0  Morn      Sat     13.0   \n",
       "8924156          NaN              1.0   Unk      Unk     13.0   \n",
       "8924157          NaN              1.0  Morn      Sat     18.0   \n",
       "8924158          NaN              1.0   Eve      Sat     18.0   \n",
       "8924159          NaN              2.0  Morn      Sun     18.0   \n",
       "\n",
       "                   UC2 Literal      neighborhood npu         x         y  \n",
       "MI_PRINX                                                                  \n",
       "8924155   LARCENY-FROM VEHICLE          Downtown   M -84.38013  33.75582  \n",
       "8924156   LARCENY-FROM VEHICLE         Home Park   E -84.39745  33.78674  \n",
       "8924157   LARCENY-FROM VEHICLE    Mechanicsville   V -84.39486  33.73760  \n",
       "8924158   LARCENY-FROM VEHICLE  Castleberry Hill   M -84.39887  33.75156  \n",
       "8924159   LARCENY-FROM VEHICLE        Adams Park   R -84.46522  33.72146  \n",
       "\n",
       "[5 rows x 22 columns]"
      ]
     },
     "execution_count": 5,
     "metadata": {},
     "output_type": "execute_result"
    }
   ],
   "source": [
    "# creating apd_data dataframe for 2017\n",
    "apd_data_2017 = pd.read_csv(\"./datasets/apd_crime_2017.csv\", parse_dates=['rpt_date','occur_date','poss_date'], index_col = 0)\n",
    "apd_data_2017.head()\n"
   ]
  },
  {
   "cell_type": "code",
   "execution_count": 6,
   "metadata": {},
   "outputs": [
    {
     "name": "stderr",
     "output_type": "stream",
     "text": [
      "C:\\Users\\Museg\\AppData\\Local\\Temp\\ipykernel_27560\\992343178.py:2: DtypeWarning: Columns (3,11) have mixed types. Specify dtype option on import or set low_memory=False.\n",
      "  apd_data_2009_to_2017 = pd.read_csv(\"./datasets/apd_crime_2009-2019.csv\", parse_dates=['Report Date','Occur Date','Possible Date'], index_col = 0)\n"
     ]
    },
    {
     "data": {
      "text/html": [
       "<div>\n",
       "<style scoped>\n",
       "    .dataframe tbody tr th:only-of-type {\n",
       "        vertical-align: middle;\n",
       "    }\n",
       "\n",
       "    .dataframe tbody tr th {\n",
       "        vertical-align: top;\n",
       "    }\n",
       "\n",
       "    .dataframe thead th {\n",
       "        text-align: right;\n",
       "    }\n",
       "</style>\n",
       "<table border=\"1\" class=\"dataframe\">\n",
       "  <thead>\n",
       "    <tr style=\"text-align: right;\">\n",
       "      <th></th>\n",
       "      <th>Report Date</th>\n",
       "      <th>Occur Date</th>\n",
       "      <th>Occur Time</th>\n",
       "      <th>Possible Date</th>\n",
       "      <th>Possible Time</th>\n",
       "      <th>Beat</th>\n",
       "      <th>Apartment Office Prefix</th>\n",
       "      <th>Apartment Number</th>\n",
       "      <th>Location</th>\n",
       "      <th>Shift Occurence</th>\n",
       "      <th>Location Type</th>\n",
       "      <th>UCR Literal</th>\n",
       "      <th>UCR #</th>\n",
       "      <th>IBR Code</th>\n",
       "      <th>Neighborhood</th>\n",
       "      <th>NPU</th>\n",
       "      <th>Latitude</th>\n",
       "      <th>Longitude</th>\n",
       "    </tr>\n",
       "    <tr>\n",
       "      <th>Report Number</th>\n",
       "      <th></th>\n",
       "      <th></th>\n",
       "      <th></th>\n",
       "      <th></th>\n",
       "      <th></th>\n",
       "      <th></th>\n",
       "      <th></th>\n",
       "      <th></th>\n",
       "      <th></th>\n",
       "      <th></th>\n",
       "      <th></th>\n",
       "      <th></th>\n",
       "      <th></th>\n",
       "      <th></th>\n",
       "      <th></th>\n",
       "      <th></th>\n",
       "      <th></th>\n",
       "      <th></th>\n",
       "    </tr>\n",
       "  </thead>\n",
       "  <tbody>\n",
       "    <tr>\n",
       "      <th>90010930</th>\n",
       "      <td>2009-01-01</td>\n",
       "      <td>2009-01-01</td>\n",
       "      <td>1145</td>\n",
       "      <td>2009-01-01</td>\n",
       "      <td>1148.0</td>\n",
       "      <td>411.0</td>\n",
       "      <td>NaN</td>\n",
       "      <td>NaN</td>\n",
       "      <td>2841 GREENBRIAR PKWY</td>\n",
       "      <td>Day Watch</td>\n",
       "      <td>8</td>\n",
       "      <td>LARCENY-NON VEHICLE</td>\n",
       "      <td>630</td>\n",
       "      <td>2303</td>\n",
       "      <td>Greenbriar</td>\n",
       "      <td>R</td>\n",
       "      <td>33.68845</td>\n",
       "      <td>-84.49328</td>\n",
       "    </tr>\n",
       "    <tr>\n",
       "      <th>90011083</th>\n",
       "      <td>2009-01-01</td>\n",
       "      <td>2009-01-01</td>\n",
       "      <td>1330</td>\n",
       "      <td>2009-01-01</td>\n",
       "      <td>1330.0</td>\n",
       "      <td>511.0</td>\n",
       "      <td>NaN</td>\n",
       "      <td>NaN</td>\n",
       "      <td>12 BROAD ST SW</td>\n",
       "      <td>Day Watch</td>\n",
       "      <td>9</td>\n",
       "      <td>LARCENY-NON VEHICLE</td>\n",
       "      <td>630</td>\n",
       "      <td>2303</td>\n",
       "      <td>Downtown</td>\n",
       "      <td>M</td>\n",
       "      <td>33.75320</td>\n",
       "      <td>-84.39201</td>\n",
       "    </tr>\n",
       "    <tr>\n",
       "      <th>90011208</th>\n",
       "      <td>2009-01-01</td>\n",
       "      <td>2009-01-01</td>\n",
       "      <td>1500</td>\n",
       "      <td>2009-01-01</td>\n",
       "      <td>1520.0</td>\n",
       "      <td>407.0</td>\n",
       "      <td>NaN</td>\n",
       "      <td>NaN</td>\n",
       "      <td>3500 MARTIN L KING JR DR SW</td>\n",
       "      <td>Unknown</td>\n",
       "      <td>8</td>\n",
       "      <td>LARCENY-NON VEHICLE</td>\n",
       "      <td>630</td>\n",
       "      <td>2303</td>\n",
       "      <td>Adamsville</td>\n",
       "      <td>H</td>\n",
       "      <td>33.75735</td>\n",
       "      <td>-84.50282</td>\n",
       "    </tr>\n",
       "    <tr>\n",
       "      <th>90011218</th>\n",
       "      <td>2009-01-01</td>\n",
       "      <td>2009-01-01</td>\n",
       "      <td>1450</td>\n",
       "      <td>2009-01-01</td>\n",
       "      <td>1510.0</td>\n",
       "      <td>210.0</td>\n",
       "      <td>NaN</td>\n",
       "      <td>NaN</td>\n",
       "      <td>3393 PEACHTREE RD NE</td>\n",
       "      <td>Evening Watch</td>\n",
       "      <td>8</td>\n",
       "      <td>LARCENY-NON VEHICLE</td>\n",
       "      <td>630</td>\n",
       "      <td>2303</td>\n",
       "      <td>Lenox</td>\n",
       "      <td>B</td>\n",
       "      <td>33.84676</td>\n",
       "      <td>-84.36212</td>\n",
       "    </tr>\n",
       "    <tr>\n",
       "      <th>90011289</th>\n",
       "      <td>2009-01-01</td>\n",
       "      <td>2009-01-01</td>\n",
       "      <td>1600</td>\n",
       "      <td>2009-01-01</td>\n",
       "      <td>1700.0</td>\n",
       "      <td>411.0</td>\n",
       "      <td>NaN</td>\n",
       "      <td>NaN</td>\n",
       "      <td>2841 GREENBRIAR PKWY SW</td>\n",
       "      <td>Unknown</td>\n",
       "      <td>8</td>\n",
       "      <td>LARCENY-NON VEHICLE</td>\n",
       "      <td>630</td>\n",
       "      <td>2303</td>\n",
       "      <td>Greenbriar</td>\n",
       "      <td>R</td>\n",
       "      <td>33.68677</td>\n",
       "      <td>-84.49773</td>\n",
       "    </tr>\n",
       "  </tbody>\n",
       "</table>\n",
       "</div>"
      ],
      "text/plain": [
       "              Report Date Occur Date Occur Time Possible Date  Possible Time  \\\n",
       "Report Number                                                                  \n",
       "90010930       2009-01-01 2009-01-01       1145    2009-01-01         1148.0   \n",
       "90011083       2009-01-01 2009-01-01       1330    2009-01-01         1330.0   \n",
       "90011208       2009-01-01 2009-01-01       1500    2009-01-01         1520.0   \n",
       "90011218       2009-01-01 2009-01-01       1450    2009-01-01         1510.0   \n",
       "90011289       2009-01-01 2009-01-01       1600    2009-01-01         1700.0   \n",
       "\n",
       "                Beat Apartment Office Prefix Apartment Number  \\\n",
       "Report Number                                                   \n",
       "90010930       411.0                     NaN              NaN   \n",
       "90011083       511.0                     NaN              NaN   \n",
       "90011208       407.0                     NaN              NaN   \n",
       "90011218       210.0                     NaN              NaN   \n",
       "90011289       411.0                     NaN              NaN   \n",
       "\n",
       "                                  Location Shift Occurence Location Type  \\\n",
       "Report Number                                                              \n",
       "90010930              2841 GREENBRIAR PKWY       Day Watch             8   \n",
       "90011083                    12 BROAD ST SW       Day Watch             9   \n",
       "90011208       3500 MARTIN L KING JR DR SW         Unknown             8   \n",
       "90011218              3393 PEACHTREE RD NE   Evening Watch             8   \n",
       "90011289           2841 GREENBRIAR PKWY SW         Unknown             8   \n",
       "\n",
       "                       UCR Literal  UCR # IBR Code Neighborhood NPU  Latitude  \\\n",
       "Report Number                                                                   \n",
       "90010930       LARCENY-NON VEHICLE    630     2303   Greenbriar   R  33.68845   \n",
       "90011083       LARCENY-NON VEHICLE    630     2303     Downtown   M  33.75320   \n",
       "90011208       LARCENY-NON VEHICLE    630     2303   Adamsville   H  33.75735   \n",
       "90011218       LARCENY-NON VEHICLE    630     2303        Lenox   B  33.84676   \n",
       "90011289       LARCENY-NON VEHICLE    630     2303   Greenbriar   R  33.68677   \n",
       "\n",
       "               Longitude  \n",
       "Report Number             \n",
       "90010930       -84.49328  \n",
       "90011083       -84.39201  \n",
       "90011208       -84.50282  \n",
       "90011218       -84.36212  \n",
       "90011289       -84.49773  "
      ]
     },
     "execution_count": 6,
     "metadata": {},
     "output_type": "execute_result"
    }
   ],
   "source": [
    "# creating apd_data dataframe for 2009-2017\n",
    "apd_data_2009_to_2017 = pd.read_csv(\"./datasets/apd_crime_2009-2019.csv\", parse_dates=['Report Date','Occur Date','Possible Date'], index_col = 0)\n",
    "apd_data_2009_to_2017.head()"
   ]
  },
  {
   "cell_type": "code",
   "execution_count": 7,
   "metadata": {},
   "outputs": [
    {
     "data": {
      "text/html": [
       "<div>\n",
       "<style scoped>\n",
       "    .dataframe tbody tr th:only-of-type {\n",
       "        vertical-align: middle;\n",
       "    }\n",
       "\n",
       "    .dataframe tbody tr th {\n",
       "        vertical-align: top;\n",
       "    }\n",
       "\n",
       "    .dataframe thead th {\n",
       "        text-align: right;\n",
       "    }\n",
       "</style>\n",
       "<table border=\"1\" class=\"dataframe\">\n",
       "  <thead>\n",
       "    <tr style=\"text-align: right;\">\n",
       "      <th></th>\n",
       "      <th>rpt_date</th>\n",
       "      <th>occur_date</th>\n",
       "      <th>occur_time</th>\n",
       "      <th>poss_date</th>\n",
       "      <th>poss_time</th>\n",
       "      <th>beat</th>\n",
       "      <th>apartment_office_prefix</th>\n",
       "      <th>apartment_number</th>\n",
       "      <th>location</th>\n",
       "      <th>watch</th>\n",
       "      <th>location_type</th>\n",
       "      <th>UC2 Literal</th>\n",
       "      <th>UCR_Number</th>\n",
       "      <th>neighborhood</th>\n",
       "      <th>npu</th>\n",
       "      <th>lat</th>\n",
       "      <th>long</th>\n",
       "    </tr>\n",
       "    <tr>\n",
       "      <th>offense_id</th>\n",
       "      <th></th>\n",
       "      <th></th>\n",
       "      <th></th>\n",
       "      <th></th>\n",
       "      <th></th>\n",
       "      <th></th>\n",
       "      <th></th>\n",
       "      <th></th>\n",
       "      <th></th>\n",
       "      <th></th>\n",
       "      <th></th>\n",
       "      <th></th>\n",
       "      <th></th>\n",
       "      <th></th>\n",
       "      <th></th>\n",
       "      <th></th>\n",
       "      <th></th>\n",
       "    </tr>\n",
       "  </thead>\n",
       "  <tbody>\n",
       "    <tr>\n",
       "      <th>200021209</th>\n",
       "      <td>2020-01-02</td>\n",
       "      <td>2020-01-02</td>\n",
       "      <td>15:21</td>\n",
       "      <td>2020-01-02</td>\n",
       "      <td>15:35</td>\n",
       "      <td>511.0</td>\n",
       "      <td>NaN</td>\n",
       "      <td>NaN</td>\n",
       "      <td>12 BROAD ST SW</td>\n",
       "      <td>Evening Watch</td>\n",
       "      <td>21.0</td>\n",
       "      <td>HOMICIDE</td>\n",
       "      <td>110</td>\n",
       "      <td>Downtown</td>\n",
       "      <td>M</td>\n",
       "      <td>33.75352</td>\n",
       "      <td>-84.39189</td>\n",
       "    </tr>\n",
       "    <tr>\n",
       "      <th>200061707</th>\n",
       "      <td>2020-01-06</td>\n",
       "      <td>2020-01-06</td>\n",
       "      <td>0:00</td>\n",
       "      <td>2020-01-06</td>\n",
       "      <td>18:25</td>\n",
       "      <td>109.0</td>\n",
       "      <td>NaN</td>\n",
       "      <td>NaN</td>\n",
       "      <td>785 PEYTON AVE NW</td>\n",
       "      <td>Evening Watch</td>\n",
       "      <td>NaN</td>\n",
       "      <td>HOMICIDE</td>\n",
       "      <td>110</td>\n",
       "      <td>Center Hill</td>\n",
       "      <td>J</td>\n",
       "      <td>33.77655</td>\n",
       "      <td>-84.46770</td>\n",
       "    </tr>\n",
       "    <tr>\n",
       "      <th>200100013</th>\n",
       "      <td>2020-01-10</td>\n",
       "      <td>2020-01-09</td>\n",
       "      <td>23:45</td>\n",
       "      <td>2020-01-10</td>\n",
       "      <td>0:00</td>\n",
       "      <td>110.0</td>\n",
       "      <td>NaN</td>\n",
       "      <td>NaN</td>\n",
       "      <td>1977 JONES AVE NW</td>\n",
       "      <td>Morning Watch</td>\n",
       "      <td>20.0</td>\n",
       "      <td>HOMICIDE</td>\n",
       "      <td>110</td>\n",
       "      <td>West Highlands</td>\n",
       "      <td>G</td>\n",
       "      <td>33.78738</td>\n",
       "      <td>-84.45208</td>\n",
       "    </tr>\n",
       "    <tr>\n",
       "      <th>200151818</th>\n",
       "      <td>2020-01-16</td>\n",
       "      <td>2020-01-15</td>\n",
       "      <td>17:15</td>\n",
       "      <td>2020-01-15</td>\n",
       "      <td>17:40</td>\n",
       "      <td>401.0</td>\n",
       "      <td>NaN</td>\n",
       "      <td>NaN</td>\n",
       "      <td>549 JOSEPH LOWERY BLVD</td>\n",
       "      <td>Evening Watch</td>\n",
       "      <td>99.0</td>\n",
       "      <td>HOMICIDE</td>\n",
       "      <td>110</td>\n",
       "      <td>West End</td>\n",
       "      <td>T</td>\n",
       "      <td>33.74001</td>\n",
       "      <td>-84.41782</td>\n",
       "    </tr>\n",
       "    <tr>\n",
       "      <th>200180440</th>\n",
       "      <td>2020-01-18</td>\n",
       "      <td>2020-01-18</td>\n",
       "      <td>3:31</td>\n",
       "      <td>2020-01-18</td>\n",
       "      <td>3:31</td>\n",
       "      <td>206.0</td>\n",
       "      <td>NaN</td>\n",
       "      <td>NaN</td>\n",
       "      <td>28 IRBY AVE NW</td>\n",
       "      <td>Morning Watch</td>\n",
       "      <td>13.0</td>\n",
       "      <td>HOMICIDE</td>\n",
       "      <td>110</td>\n",
       "      <td>South Tuxedo Park</td>\n",
       "      <td>B</td>\n",
       "      <td>33.84102</td>\n",
       "      <td>-84.38018</td>\n",
       "    </tr>\n",
       "  </tbody>\n",
       "</table>\n",
       "</div>"
      ],
      "text/plain": [
       "             rpt_date occur_date occur_time  poss_date poss_time   beat  \\\n",
       "offense_id                                                                \n",
       "200021209  2020-01-02 2020-01-02      15:21 2020-01-02     15:35  511.0   \n",
       "200061707  2020-01-06 2020-01-06       0:00 2020-01-06     18:25  109.0   \n",
       "200100013  2020-01-10 2020-01-09      23:45 2020-01-10      0:00  110.0   \n",
       "200151818  2020-01-16 2020-01-15      17:15 2020-01-15     17:40  401.0   \n",
       "200180440  2020-01-18 2020-01-18       3:31 2020-01-18      3:31  206.0   \n",
       "\n",
       "           apartment_office_prefix apartment_number                location  \\\n",
       "offense_id                                                                    \n",
       "200021209                      NaN              NaN          12 BROAD ST SW   \n",
       "200061707                      NaN              NaN       785 PEYTON AVE NW   \n",
       "200100013                      NaN              NaN       1977 JONES AVE NW   \n",
       "200151818                      NaN              NaN  549 JOSEPH LOWERY BLVD   \n",
       "200180440                      NaN              NaN          28 IRBY AVE NW   \n",
       "\n",
       "                    watch  location_type UC2 Literal  UCR_Number  \\\n",
       "offense_id                                                         \n",
       "200021209   Evening Watch           21.0    HOMICIDE         110   \n",
       "200061707   Evening Watch            NaN    HOMICIDE         110   \n",
       "200100013   Morning Watch           20.0    HOMICIDE         110   \n",
       "200151818   Evening Watch           99.0    HOMICIDE         110   \n",
       "200180440   Morning Watch           13.0    HOMICIDE         110   \n",
       "\n",
       "                 neighborhood npu       lat      long  \n",
       "offense_id                                             \n",
       "200021209            Downtown   M  33.75352 -84.39189  \n",
       "200061707         Center Hill   J  33.77655 -84.46770  \n",
       "200100013      West Highlands   G  33.78738 -84.45208  \n",
       "200151818            West End   T  33.74001 -84.41782  \n",
       "200180440   South Tuxedo Park   B  33.84102 -84.38018  "
      ]
     },
     "execution_count": 7,
     "metadata": {},
     "output_type": "execute_result"
    }
   ],
   "source": [
    "# creating apd_data dataframe for 2020\n",
    "apd_data_2020 = pd.read_csv(\"./datasets/apd_crime_2020.csv\", parse_dates=['rpt_date','occur_date','poss_date'], index_col = 0)\n",
    "apd_data_2020.head()"
   ]
  },
  {
   "cell_type": "code",
   "execution_count": 8,
   "metadata": {},
   "outputs": [
    {
     "name": "stderr",
     "output_type": "stream",
     "text": [
      "C:\\Users\\Museg\\AppData\\Local\\Temp\\ipykernel_27560\\2285764476.py:2: DtypeWarning: Columns (9,17) have mixed types. Specify dtype option on import or set low_memory=False.\n",
      "  apd_data_2021_to_2023 = pd.read_csv(\"./datasets/apd_crime_2021-2023.csv\", parse_dates=['Report Date','Offense Start Date','Offense End Date'], index_col = 0)\n"
     ]
    },
    {
     "data": {
      "text/html": [
       "<div>\n",
       "<style scoped>\n",
       "    .dataframe tbody tr th:only-of-type {\n",
       "        vertical-align: middle;\n",
       "    }\n",
       "\n",
       "    .dataframe tbody tr th {\n",
       "        vertical-align: top;\n",
       "    }\n",
       "\n",
       "    .dataframe thead th {\n",
       "        text-align: right;\n",
       "    }\n",
       "</style>\n",
       "<table border=\"1\" class=\"dataframe\">\n",
       "  <thead>\n",
       "    <tr style=\"text-align: right;\">\n",
       "      <th></th>\n",
       "      <th>Report Number</th>\n",
       "      <th>OffID</th>\n",
       "      <th>Report Date</th>\n",
       "      <th>Offense Start Date</th>\n",
       "      <th>Offense End Date</th>\n",
       "      <th>Day of the week</th>\n",
       "      <th>Day Number</th>\n",
       "      <th>Zone</th>\n",
       "      <th>Beat</th>\n",
       "      <th>Location</th>\n",
       "      <th>...</th>\n",
       "      <th>Neighborhood</th>\n",
       "      <th>NPU</th>\n",
       "      <th>Council District</th>\n",
       "      <th>UCR Grouping</th>\n",
       "      <th>Victim Count</th>\n",
       "      <th>GlobalID</th>\n",
       "      <th>CAD ID</th>\n",
       "      <th>Report ID</th>\n",
       "      <th>x</th>\n",
       "      <th>y</th>\n",
       "    </tr>\n",
       "    <tr>\n",
       "      <th>OBJECTID</th>\n",
       "      <th></th>\n",
       "      <th></th>\n",
       "      <th></th>\n",
       "      <th></th>\n",
       "      <th></th>\n",
       "      <th></th>\n",
       "      <th></th>\n",
       "      <th></th>\n",
       "      <th></th>\n",
       "      <th></th>\n",
       "      <th></th>\n",
       "      <th></th>\n",
       "      <th></th>\n",
       "      <th></th>\n",
       "      <th></th>\n",
       "      <th></th>\n",
       "      <th></th>\n",
       "      <th></th>\n",
       "      <th></th>\n",
       "      <th></th>\n",
       "      <th></th>\n",
       "    </tr>\n",
       "  </thead>\n",
       "  <tbody>\n",
       "    <tr>\n",
       "      <th>1</th>\n",
       "      <td>21365171</td>\n",
       "      <td>30739507016</td>\n",
       "      <td>2021-12-31 08:20:15</td>\n",
       "      <td>12/31/2021 7:15:00 AM</td>\n",
       "      <td>12/31/2021 7:45:00 AM</td>\n",
       "      <td>Friday</td>\n",
       "      <td>6</td>\n",
       "      <td>6</td>\n",
       "      <td>604</td>\n",
       "      <td>111 BOULEVARD NE</td>\n",
       "      <td>...</td>\n",
       "      <td>Old Fourth Ward</td>\n",
       "      <td>M</td>\n",
       "      <td>2.0</td>\n",
       "      <td>Part II</td>\n",
       "      <td>NaN</td>\n",
       "      <td>7e30cbbb-4392-47ba-8311-b1ad817105e9</td>\n",
       "      <td>NaN</td>\n",
       "      <td>3.073906e+10</td>\n",
       "      <td>-84.371743</td>\n",
       "      <td>33.757320</td>\n",
       "    </tr>\n",
       "    <tr>\n",
       "      <th>2</th>\n",
       "      <td>21791668</td>\n",
       "      <td>25791862748</td>\n",
       "      <td>2021-06-29 00:58:09</td>\n",
       "      <td>6/28/2021 1:17:00 AM</td>\n",
       "      <td>6/29/2021 12:00:00 AM</td>\n",
       "      <td>Sunday</td>\n",
       "      <td>1</td>\n",
       "      <td>1</td>\n",
       "      <td>102</td>\n",
       "      <td>870 MAYSON TURNER RD NW</td>\n",
       "      <td>...</td>\n",
       "      <td>Vine City</td>\n",
       "      <td>L</td>\n",
       "      <td>3.0</td>\n",
       "      <td>Part I</td>\n",
       "      <td>NaN</td>\n",
       "      <td>104a1262-ef8a-4478-b776-1594a7206307</td>\n",
       "      <td>NaN</td>\n",
       "      <td>2.579171e+10</td>\n",
       "      <td>-84.416631</td>\n",
       "      <td>33.755768</td>\n",
       "    </tr>\n",
       "    <tr>\n",
       "      <th>3</th>\n",
       "      <td>22041413</td>\n",
       "      <td>31620454540</td>\n",
       "      <td>2022-02-14 21:26:21</td>\n",
       "      <td>1/25/2022 2:50:00 PM</td>\n",
       "      <td>1/25/2022 3:15:00 PM</td>\n",
       "      <td>Tuesday</td>\n",
       "      <td>3</td>\n",
       "      <td>3</td>\n",
       "      <td>304</td>\n",
       "      <td>1192 PRYOR RD SW</td>\n",
       "      <td>...</td>\n",
       "      <td>Peoplestown</td>\n",
       "      <td>V</td>\n",
       "      <td>12.0</td>\n",
       "      <td>Part II</td>\n",
       "      <td>NaN</td>\n",
       "      <td>5784d36f-0839-4795-9d8b-370e59eb72b0</td>\n",
       "      <td>NaN</td>\n",
       "      <td>3.162042e+10</td>\n",
       "      <td>-84.392803</td>\n",
       "      <td>33.722882</td>\n",
       "    </tr>\n",
       "    <tr>\n",
       "      <th>4</th>\n",
       "      <td>193390123</td>\n",
       "      <td>25702843151</td>\n",
       "      <td>2021-06-24 10:14:31</td>\n",
       "      <td>12/5/2019 6:14:00 AM</td>\n",
       "      <td>12/5/2019 6:40:00 AM</td>\n",
       "      <td>Thursday</td>\n",
       "      <td>5</td>\n",
       "      <td>2</td>\n",
       "      <td>211</td>\n",
       "      <td>I-85 S / GA-400 S</td>\n",
       "      <td>...</td>\n",
       "      <td>Lindbergh/Morosgo</td>\n",
       "      <td>B</td>\n",
       "      <td>6.0</td>\n",
       "      <td>Part II</td>\n",
       "      <td>NaN</td>\n",
       "      <td>6217e790-ded9-421c-9ac1-eb31f53f0894</td>\n",
       "      <td>NaN</td>\n",
       "      <td>2.570282e+10</td>\n",
       "      <td>-84.361660</td>\n",
       "      <td>33.819430</td>\n",
       "    </tr>\n",
       "    <tr>\n",
       "      <th>5</th>\n",
       "      <td>202771329</td>\n",
       "      <td>26998571556</td>\n",
       "      <td>2021-08-19 21:53:50</td>\n",
       "      <td>10/3/2020 8:29:00 PM</td>\n",
       "      <td>10/3/2020 8:29:00 PM</td>\n",
       "      <td>Saturday</td>\n",
       "      <td>7</td>\n",
       "      <td>1</td>\n",
       "      <td>109</td>\n",
       "      <td>665 S GRAND AVE NW</td>\n",
       "      <td>...</td>\n",
       "      <td>Center Hill</td>\n",
       "      <td>J</td>\n",
       "      <td>9.0</td>\n",
       "      <td>Part I</td>\n",
       "      <td>1.0</td>\n",
       "      <td>44add9cf-98ce-4910-8884-ab3c9b3fbaf7</td>\n",
       "      <td>1.587124e+10</td>\n",
       "      <td>2.699431e+10</td>\n",
       "      <td>-84.462521</td>\n",
       "      <td>33.773181</td>\n",
       "    </tr>\n",
       "  </tbody>\n",
       "</table>\n",
       "<p>5 rows × 30 columns</p>\n",
       "</div>"
      ],
      "text/plain": [
       "          Report Number        OffID         Report Date  \\\n",
       "OBJECTID                                                   \n",
       "1              21365171  30739507016 2021-12-31 08:20:15   \n",
       "2              21791668  25791862748 2021-06-29 00:58:09   \n",
       "3              22041413  31620454540 2022-02-14 21:26:21   \n",
       "4             193390123  25702843151 2021-06-24 10:14:31   \n",
       "5             202771329  26998571556 2021-08-19 21:53:50   \n",
       "\n",
       "             Offense Start Date       Offense End Date Day of the week  \\\n",
       "OBJECTID                                                                 \n",
       "1         12/31/2021 7:15:00 AM  12/31/2021 7:45:00 AM          Friday   \n",
       "2          6/28/2021 1:17:00 AM  6/29/2021 12:00:00 AM          Sunday   \n",
       "3          1/25/2022 2:50:00 PM   1/25/2022 3:15:00 PM         Tuesday   \n",
       "4          12/5/2019 6:14:00 AM   12/5/2019 6:40:00 AM        Thursday   \n",
       "5          10/3/2020 8:29:00 PM   10/3/2020 8:29:00 PM        Saturday   \n",
       "\n",
       "          Day Number  Zone Beat                 Location  ...  \\\n",
       "OBJECTID                                                  ...   \n",
       "1                  6     6  604         111 BOULEVARD NE  ...   \n",
       "2                  1     1  102  870 MAYSON TURNER RD NW  ...   \n",
       "3                  3     3  304         1192 PRYOR RD SW  ...   \n",
       "4                  5     2  211        I-85 S / GA-400 S  ...   \n",
       "5                  7     1  109       665 S GRAND AVE NW  ...   \n",
       "\n",
       "               Neighborhood NPU Council District UCR Grouping Victim Count  \\\n",
       "OBJECTID                                                                     \n",
       "1           Old Fourth Ward   M              2.0      Part II          NaN   \n",
       "2                 Vine City   L              3.0       Part I          NaN   \n",
       "3               Peoplestown   V             12.0      Part II          NaN   \n",
       "4         Lindbergh/Morosgo   B              6.0      Part II          NaN   \n",
       "5               Center Hill   J              9.0       Part I          1.0   \n",
       "\n",
       "                                      GlobalID        CAD ID     Report ID  \\\n",
       "OBJECTID                                                                     \n",
       "1         7e30cbbb-4392-47ba-8311-b1ad817105e9           NaN  3.073906e+10   \n",
       "2         104a1262-ef8a-4478-b776-1594a7206307           NaN  2.579171e+10   \n",
       "3         5784d36f-0839-4795-9d8b-370e59eb72b0           NaN  3.162042e+10   \n",
       "4         6217e790-ded9-421c-9ac1-eb31f53f0894           NaN  2.570282e+10   \n",
       "5         44add9cf-98ce-4910-8884-ab3c9b3fbaf7  1.587124e+10  2.699431e+10   \n",
       "\n",
       "                  x          y  \n",
       "OBJECTID                        \n",
       "1        -84.371743  33.757320  \n",
       "2        -84.416631  33.755768  \n",
       "3        -84.392803  33.722882  \n",
       "4        -84.361660  33.819430  \n",
       "5        -84.462521  33.773181  \n",
       "\n",
       "[5 rows x 30 columns]"
      ]
     },
     "execution_count": 8,
     "metadata": {},
     "output_type": "execute_result"
    }
   ],
   "source": [
    "# creating apd_data dataframe for 2021-2023\n",
    "apd_data_2021_to_2023 = pd.read_csv(\"./datasets/apd_crime_2021-2023.csv\", parse_dates=['Report Date','Offense Start Date','Offense End Date'], index_col = 0)\n",
    "apd_data_2021_to_2023.head()"
   ]
  },
  {
   "cell_type": "code",
   "execution_count": 9,
   "metadata": {
    "ExecuteTime": {
     "end_time": "2020-03-02T22:43:46.828369Z",
     "start_time": "2020-03-02T22:43:46.345954Z"
    },
    "scrolled": true
   },
   "outputs": [
    {
     "data": {
      "text/html": [
       "<div>\n",
       "<style scoped>\n",
       "    .dataframe tbody tr th:only-of-type {\n",
       "        vertical-align: middle;\n",
       "    }\n",
       "\n",
       "    .dataframe tbody tr th {\n",
       "        vertical-align: top;\n",
       "    }\n",
       "\n",
       "    .dataframe thead th {\n",
       "        text-align: right;\n",
       "    }\n",
       "</style>\n",
       "<table border=\"1\" class=\"dataframe\">\n",
       "  <thead>\n",
       "    <tr style=\"text-align: right;\">\n",
       "      <th></th>\n",
       "      <th>Report Date</th>\n",
       "      <th>Occur Date</th>\n",
       "      <th>Occur Time</th>\n",
       "      <th>Possible Date</th>\n",
       "      <th>Possible Time</th>\n",
       "      <th>Beat</th>\n",
       "      <th>Apartment Office Prefix</th>\n",
       "      <th>Apartment Number</th>\n",
       "      <th>Location</th>\n",
       "      <th>Shift Occurence</th>\n",
       "      <th>Location Type</th>\n",
       "      <th>UCR Literal</th>\n",
       "      <th>UCR #</th>\n",
       "      <th>IBR Code</th>\n",
       "      <th>Neighborhood</th>\n",
       "      <th>NPU</th>\n",
       "      <th>Latitude</th>\n",
       "      <th>Longitude</th>\n",
       "    </tr>\n",
       "    <tr>\n",
       "      <th>Report Number</th>\n",
       "      <th></th>\n",
       "      <th></th>\n",
       "      <th></th>\n",
       "      <th></th>\n",
       "      <th></th>\n",
       "      <th></th>\n",
       "      <th></th>\n",
       "      <th></th>\n",
       "      <th></th>\n",
       "      <th></th>\n",
       "      <th></th>\n",
       "      <th></th>\n",
       "      <th></th>\n",
       "      <th></th>\n",
       "      <th></th>\n",
       "      <th></th>\n",
       "      <th></th>\n",
       "      <th></th>\n",
       "    </tr>\n",
       "  </thead>\n",
       "  <tbody>\n",
       "    <tr>\n",
       "      <th>90010930</th>\n",
       "      <td>2009-01-01</td>\n",
       "      <td>2009-01-01</td>\n",
       "      <td>1145</td>\n",
       "      <td>2009-01-01</td>\n",
       "      <td>1148.0</td>\n",
       "      <td>411.0</td>\n",
       "      <td>NaN</td>\n",
       "      <td>NaN</td>\n",
       "      <td>2841 GREENBRIAR PKWY</td>\n",
       "      <td>Day Watch</td>\n",
       "      <td>8</td>\n",
       "      <td>LARCENY-NON VEHICLE</td>\n",
       "      <td>630</td>\n",
       "      <td>2303</td>\n",
       "      <td>Greenbriar</td>\n",
       "      <td>R</td>\n",
       "      <td>33.68845</td>\n",
       "      <td>-84.49328</td>\n",
       "    </tr>\n",
       "    <tr>\n",
       "      <th>90011083</th>\n",
       "      <td>2009-01-01</td>\n",
       "      <td>2009-01-01</td>\n",
       "      <td>1330</td>\n",
       "      <td>2009-01-01</td>\n",
       "      <td>1330.0</td>\n",
       "      <td>511.0</td>\n",
       "      <td>NaN</td>\n",
       "      <td>NaN</td>\n",
       "      <td>12 BROAD ST SW</td>\n",
       "      <td>Day Watch</td>\n",
       "      <td>9</td>\n",
       "      <td>LARCENY-NON VEHICLE</td>\n",
       "      <td>630</td>\n",
       "      <td>2303</td>\n",
       "      <td>Downtown</td>\n",
       "      <td>M</td>\n",
       "      <td>33.75320</td>\n",
       "      <td>-84.39201</td>\n",
       "    </tr>\n",
       "    <tr>\n",
       "      <th>90011208</th>\n",
       "      <td>2009-01-01</td>\n",
       "      <td>2009-01-01</td>\n",
       "      <td>1500</td>\n",
       "      <td>2009-01-01</td>\n",
       "      <td>1520.0</td>\n",
       "      <td>407.0</td>\n",
       "      <td>NaN</td>\n",
       "      <td>NaN</td>\n",
       "      <td>3500 MARTIN L KING JR DR SW</td>\n",
       "      <td>Unknown</td>\n",
       "      <td>8</td>\n",
       "      <td>LARCENY-NON VEHICLE</td>\n",
       "      <td>630</td>\n",
       "      <td>2303</td>\n",
       "      <td>Adamsville</td>\n",
       "      <td>H</td>\n",
       "      <td>33.75735</td>\n",
       "      <td>-84.50282</td>\n",
       "    </tr>\n",
       "    <tr>\n",
       "      <th>90011218</th>\n",
       "      <td>2009-01-01</td>\n",
       "      <td>2009-01-01</td>\n",
       "      <td>1450</td>\n",
       "      <td>2009-01-01</td>\n",
       "      <td>1510.0</td>\n",
       "      <td>210.0</td>\n",
       "      <td>NaN</td>\n",
       "      <td>NaN</td>\n",
       "      <td>3393 PEACHTREE RD NE</td>\n",
       "      <td>Evening Watch</td>\n",
       "      <td>8</td>\n",
       "      <td>LARCENY-NON VEHICLE</td>\n",
       "      <td>630</td>\n",
       "      <td>2303</td>\n",
       "      <td>Lenox</td>\n",
       "      <td>B</td>\n",
       "      <td>33.84676</td>\n",
       "      <td>-84.36212</td>\n",
       "    </tr>\n",
       "    <tr>\n",
       "      <th>90011289</th>\n",
       "      <td>2009-01-01</td>\n",
       "      <td>2009-01-01</td>\n",
       "      <td>1600</td>\n",
       "      <td>2009-01-01</td>\n",
       "      <td>1700.0</td>\n",
       "      <td>411.0</td>\n",
       "      <td>NaN</td>\n",
       "      <td>NaN</td>\n",
       "      <td>2841 GREENBRIAR PKWY SW</td>\n",
       "      <td>Unknown</td>\n",
       "      <td>8</td>\n",
       "      <td>LARCENY-NON VEHICLE</td>\n",
       "      <td>630</td>\n",
       "      <td>2303</td>\n",
       "      <td>Greenbriar</td>\n",
       "      <td>R</td>\n",
       "      <td>33.68677</td>\n",
       "      <td>-84.49773</td>\n",
       "    </tr>\n",
       "  </tbody>\n",
       "</table>\n",
       "</div>"
      ],
      "text/plain": [
       "              Report Date Occur Date Occur Time Possible Date  Possible Time  \\\n",
       "Report Number                                                                  \n",
       "90010930       2009-01-01 2009-01-01       1145    2009-01-01         1148.0   \n",
       "90011083       2009-01-01 2009-01-01       1330    2009-01-01         1330.0   \n",
       "90011208       2009-01-01 2009-01-01       1500    2009-01-01         1520.0   \n",
       "90011218       2009-01-01 2009-01-01       1450    2009-01-01         1510.0   \n",
       "90011289       2009-01-01 2009-01-01       1600    2009-01-01         1700.0   \n",
       "\n",
       "                Beat Apartment Office Prefix Apartment Number  \\\n",
       "Report Number                                                   \n",
       "90010930       411.0                     NaN              NaN   \n",
       "90011083       511.0                     NaN              NaN   \n",
       "90011208       407.0                     NaN              NaN   \n",
       "90011218       210.0                     NaN              NaN   \n",
       "90011289       411.0                     NaN              NaN   \n",
       "\n",
       "                                  Location Shift Occurence Location Type  \\\n",
       "Report Number                                                              \n",
       "90010930              2841 GREENBRIAR PKWY       Day Watch             8   \n",
       "90011083                    12 BROAD ST SW       Day Watch             9   \n",
       "90011208       3500 MARTIN L KING JR DR SW         Unknown             8   \n",
       "90011218              3393 PEACHTREE RD NE   Evening Watch             8   \n",
       "90011289           2841 GREENBRIAR PKWY SW         Unknown             8   \n",
       "\n",
       "                       UCR Literal  UCR # IBR Code Neighborhood NPU  Latitude  \\\n",
       "Report Number                                                                   \n",
       "90010930       LARCENY-NON VEHICLE    630     2303   Greenbriar   R  33.68845   \n",
       "90011083       LARCENY-NON VEHICLE    630     2303     Downtown   M  33.75320   \n",
       "90011208       LARCENY-NON VEHICLE    630     2303   Adamsville   H  33.75735   \n",
       "90011218       LARCENY-NON VEHICLE    630     2303        Lenox   B  33.84676   \n",
       "90011289       LARCENY-NON VEHICLE    630     2303   Greenbriar   R  33.68677   \n",
       "\n",
       "               Longitude  \n",
       "Report Number             \n",
       "90010930       -84.49328  \n",
       "90011083       -84.39201  \n",
       "90011208       -84.50282  \n",
       "90011218       -84.36212  \n",
       "90011289       -84.49773  "
      ]
     },
     "execution_count": 9,
     "metadata": {},
     "output_type": "execute_result"
    }
   ],
   "source": [
    "crime_data = apd_data_2009_to_2017\n",
    "crime_data.head()"
   ]
  },
  {
   "attachments": {},
   "cell_type": "markdown",
   "metadata": {},
   "source": [
    "Imported data information"
   ]
  },
  {
   "cell_type": "code",
   "execution_count": 10,
   "metadata": {
    "ExecuteTime": {
     "end_time": "2020-03-02T17:04:01.654875Z",
     "start_time": "2020-03-02T17:04:01.608775Z"
    },
    "scrolled": false
   },
   "outputs": [
    {
     "name": "stdout",
     "output_type": "stream",
     "text": [
      "<class 'pandas.core.frame.DataFrame'>\n",
      "Int64Index: 342914 entries, 90010930 to 193652591\n",
      "Data columns (total 18 columns):\n",
      " #   Column                   Non-Null Count   Dtype         \n",
      "---  ------                   --------------   -----         \n",
      " 0   Report Date              342914 non-null  datetime64[ns]\n",
      " 1   Occur Date               342914 non-null  datetime64[ns]\n",
      " 2   Occur Time               342914 non-null  object        \n",
      " 3   Possible Date            342896 non-null  datetime64[ns]\n",
      " 4   Possible Time            342895 non-null  float64       \n",
      " 5   Beat                     342890 non-null  float64       \n",
      " 6   Apartment Office Prefix  10094 non-null   object        \n",
      " 7   Apartment Number         68274 non-null   object        \n",
      " 8   Location                 342912 non-null  object        \n",
      " 9   Shift Occurence          342914 non-null  object        \n",
      " 10  Location Type            333698 non-null  object        \n",
      " 11  UCR Literal              342914 non-null  object        \n",
      " 12  UCR #                    342914 non-null  int64         \n",
      " 13  IBR Code                 342744 non-null  object        \n",
      " 14  Neighborhood             330551 non-null  object        \n",
      " 15  NPU                      342775 non-null  object        \n",
      " 16  Latitude                 342914 non-null  float64       \n",
      " 17  Longitude                342914 non-null  float64       \n",
      "dtypes: datetime64[ns](3), float64(4), int64(1), object(10)\n",
      "memory usage: 49.7+ MB\n"
     ]
    }
   ],
   "source": [
    "crime_data.info()"
   ]
  },
  {
   "attachments": {},
   "cell_type": "markdown",
   "metadata": {},
   "source": [
    "## Manipulating the Data"
   ]
  },
  {
   "attachments": {},
   "cell_type": "markdown",
   "metadata": {},
   "source": [
    "In order to separate the data by month, day, and year from the report date, three new variable needed to be created. \n",
    "All \"Unk\" in data will not be included"
   ]
  },
  {
   "cell_type": "code",
   "execution_count": null,
   "metadata": {
    "ExecuteTime": {
     "end_time": "2020-03-02T17:04:04.173495Z",
     "start_time": "2020-03-02T17:04:04.152597Z"
    },
    "scrolled": false
   },
   "outputs": [],
   "source": [
    "crime_data['rpt_year'] = crime_data['rpt_date'].dt.year\n",
    "crime_data['rpt_month'] = crime_data['rpt_date'].dt.month\n",
    "crime_data['rpt_day'] = crime_data['rpt_date'].dt.day"
   ]
  },
  {
   "cell_type": "code",
   "execution_count": null,
   "metadata": {
    "ExecuteTime": {
     "end_time": "2020-03-02T17:04:05.184227Z",
     "start_time": "2020-03-02T17:04:05.099911Z"
    },
    "scrolled": false
   },
   "outputs": [],
   "source": [
    "# crime_data = crime_data[crime_data.Shift != 'Unk']\n",
    "# crime_data = crime_data[crime_data.Avg_Day != 'Unk']\n",
    "crime_data.head()"
   ]
  },
  {
   "cell_type": "code",
   "execution_count": null,
   "metadata": {},
   "outputs": [],
   "source": [
    "crime_data.describe()"
   ]
  },
  {
   "attachments": {},
   "cell_type": "markdown",
   "metadata": {},
   "source": [
    "## Graph #1: Maximum Number of Victims Affected Per Crime Type"
   ]
  },
  {
   "attachments": {},
   "cell_type": "markdown",
   "metadata": {},
   "source": [
    "Two columns were kept for the first graph. The type of crime, 'UC2 Literal', and the maximum number of victims. They were added to a new variable, \"crimePerMonth.\""
   ]
  },
  {
   "cell_type": "code",
   "execution_count": null,
   "metadata": {
    "ExecuteTime": {
     "end_time": "2020-03-02T17:04:10.361392Z",
     "start_time": "2020-03-02T17:04:10.343336Z"
    },
    "scrolled": false
   },
   "outputs": [],
   "source": [
    "victims_crime = crime_data[['UC2 Literal']]\n",
    "victims_crime.head()"
   ]
  },
  {
   "attachments": {},
   "cell_type": "markdown",
   "metadata": {},
   "source": [
    "crimePerMonth is grouped by the type of crime in crime_group."
   ]
  },
  {
   "cell_type": "code",
   "execution_count": null,
   "metadata": {
    "ExecuteTime": {
     "end_time": "2020-03-02T17:04:12.237118Z",
     "start_time": "2020-03-02T17:04:12.170013Z"
    },
    "scrolled": false
   },
   "outputs": [],
   "source": [
    "victims_group=victims_crime.groupby(['UC2 Literal'])\n",
    "victims_group.size()"
   ]
  },
  {
   "attachments": {},
   "cell_type": "markdown",
   "metadata": {},
   "source": [
    "The sum function is used to retrieve the total number of victims affected per type of crime. Then, sorted in descending order by maximum number of victims affected."
   ]
  },
  {
   "cell_type": "code",
   "execution_count": null,
   "metadata": {
    "ExecuteTime": {
     "end_time": "2020-03-02T17:04:15.592440Z",
     "start_time": "2020-03-02T17:04:15.546762Z"
    },
    "scrolled": false
   },
   "outputs": [],
   "source": [
    "total_victims = victims_group.sum()\n",
    "total_victims.sort_values(by='MaxOfnum_victims',ascending=False).head()"
   ]
  },
  {
   "cell_type": "code",
   "execution_count": null,
   "metadata": {
    "ExecuteTime": {
     "end_time": "2020-03-02T17:04:23.142215Z",
     "start_time": "2020-03-02T17:04:23.109318Z"
    },
    "scrolled": false
   },
   "outputs": [],
   "source": [
    "total_victims.describe()"
   ]
  },
  {
   "attachments": {},
   "cell_type": "markdown",
   "metadata": {},
   "source": [
    "A bar chart plot is created to show that more victims were affected by 'Larceny- From Vehicle.' The least amount of victims were affected by 'Homicide.'"
   ]
  },
  {
   "cell_type": "code",
   "execution_count": null,
   "metadata": {
    "ExecuteTime": {
     "end_time": "2020-03-02T17:04:25.412151Z",
     "start_time": "2020-03-02T17:04:24.993281Z"
    },
    "scrolled": false
   },
   "outputs": [],
   "source": [
    "victims_plot = total_victims.sort_values(by='MaxOfnum_victims',ascending=False).plot(kind='bar',legend=None,title=\"Maximum Victims Affected Per Crime Type in Atlanta 2017\")\n",
    "victims_plot.set_xlabel(\"Type of Crime\")\n",
    "victims_plot.set_ylabel(\"Maximum Number of Victims\")"
   ]
  },
  {
   "attachments": {},
   "cell_type": "markdown",
   "metadata": {},
   "source": [
    "In the first graph, 11,164 victims were affected from larceny from a vehicle in Atlanta 2017. No victims were affected in a homicide."
   ]
  },
  {
   "attachments": {},
   "cell_type": "markdown",
   "metadata": {},
   "source": [
    "## Graph #2: Max Victims Affected By Day"
   ]
  },
  {
   "attachments": {},
   "cell_type": "markdown",
   "metadata": {},
   "source": [
    "Breakdown the type of crime by 'Shift' day and 'Avg_Day'. This will inform us when time of day and day of the week the crimes occured."
   ]
  },
  {
   "cell_type": "code",
   "execution_count": null,
   "metadata": {
    "ExecuteTime": {
     "end_time": "2020-03-02T17:05:12.315193Z",
     "start_time": "2020-03-02T17:05:12.284791Z"
    },
    "scrolled": false
   },
   "outputs": [],
   "source": [
    "victims = crime_data[['UC2 Literal','MaxOfnum_victims', 'Shift', 'Avg_Day','rpt_month']]\n",
    "victims.dropna(subset=['Shift'])\n",
    "victims.head()"
   ]
  },
  {
   "attachments": {},
   "cell_type": "markdown",
   "metadata": {},
   "source": [
    "Groupby is used to organize the data into the Shift, day of the week, and month reported of crime."
   ]
  },
  {
   "cell_type": "code",
   "execution_count": null,
   "metadata": {
    "ExecuteTime": {
     "end_time": "2020-03-02T17:05:14.041595Z",
     "start_time": "2020-03-02T17:05:13.994803Z"
    },
    "scrolled": false
   },
   "outputs": [],
   "source": [
    "victims_breakdown = victims.groupby(['Shift', 'Avg_Day','rpt_month']).sum()\n",
    "victims_breakdown.head()"
   ]
  },
  {
   "attachments": {},
   "cell_type": "markdown",
   "metadata": {},
   "source": [
    "To graph the data as a stacked bar graph, it must be unstacked first."
   ]
  },
  {
   "cell_type": "code",
   "execution_count": null,
   "metadata": {
    "ExecuteTime": {
     "end_time": "2020-03-02T17:05:16.653493Z",
     "start_time": "2020-03-02T17:05:16.544838Z"
    },
    "scrolled": false
   },
   "outputs": [],
   "source": [
    "victims_breakdown.unstack()"
   ]
  },
  {
   "cell_type": "code",
   "execution_count": null,
   "metadata": {
    "ExecuteTime": {
     "end_time": "2020-03-02T17:05:31.096454Z",
     "start_time": "2020-03-02T17:05:29.533006Z"
    },
    "scrolled": false
   },
   "outputs": [],
   "source": [
    "breakdown_plot = victims_breakdown.unstack().plot(kind='bar',stacked=True,title=\"Max Victims Affected By Day\",figsize=(12, 10))\n",
    "breakdown_plot.set_xlabel(\"Day of the Week\")\n",
    "breakdown_plot.set_ylabel(\"Max Victims Affected\")\n",
    "breakdown_plot.legend([\"Jan\",\"Feb\",\"Mar\",\"Apr\",\"May\",\"Jun\",\"Jul\",\"Aug\",\"Sep\",\"Oct\",\"Nov\",\"Dec\"], title=\"Month Reported\", loc=2,ncol=3)"
   ]
  },
  {
   "attachments": {},
   "cell_type": "markdown",
   "metadata": {},
   "source": [
    "In the second graph, most victims were affected on Friday evenings during the months of March and Novemeber. On Saturday evenings during the months of September and October."
   ]
  },
  {
   "attachments": {},
   "cell_type": "markdown",
   "metadata": {},
   "source": [
    "## Graph #3:  Atlanta Crime Type Frequency"
   ]
  },
  {
   "attachments": {},
   "cell_type": "markdown",
   "metadata": {},
   "source": [
    "We need to find the correlation between type of crime and frequency"
   ]
  },
  {
   "cell_type": "code",
   "execution_count": null,
   "metadata": {
    "ExecuteTime": {
     "end_time": "2020-03-02T17:05:31.365218Z",
     "start_time": "2020-03-02T17:05:31.334755Z"
    },
    "scrolled": false
   },
   "outputs": [],
   "source": [
    "crime = crime_data['UC2 Literal']\n",
    "summary = crime.value_counts(sort = True).to_frame()\n",
    "summary = summary.reset_index()\n",
    "summary.columns = ['Crime Type', 'Frequency']\n",
    "summary"
   ]
  },
  {
   "attachments": {},
   "cell_type": "markdown",
   "metadata": {},
   "source": [
    "Convert new variable \"summary\" into an array to create a bar chart"
   ]
  },
  {
   "cell_type": "code",
   "execution_count": null,
   "metadata": {
    "ExecuteTime": {
     "end_time": "2020-03-02T17:05:34.089807Z",
     "start_time": "2020-03-02T17:05:34.080428Z"
    },
    "scrolled": false
   },
   "outputs": [],
   "source": [
    "crime_type = np.array(summary['Crime Type'])\n",
    "crime_freq = np.array(summary['Frequency'])\n",
    "crime_type\n",
    "crime_freq"
   ]
  },
  {
   "attachments": {},
   "cell_type": "markdown",
   "metadata": {},
   "source": [
    "Create bar chart"
   ]
  },
  {
   "cell_type": "code",
   "execution_count": null,
   "metadata": {
    "ExecuteTime": {
     "end_time": "2020-03-02T17:05:35.317027Z",
     "start_time": "2020-03-02T17:05:35.083562Z"
    },
    "scrolled": false
   },
   "outputs": [],
   "source": [
    "plt.barh(crime_type, crime_freq, alpha =0.5)\n",
    "plt.xlabel('Number of Crime')\n",
    "plt.title('Atlanta Crime Type Frequency')\n",
    "plt.show()"
   ]
  },
  {
   "cell_type": "code",
   "execution_count": null,
   "metadata": {
    "ExecuteTime": {
     "end_time": "2020-03-02T17:05:39.165116Z",
     "start_time": "2020-03-02T17:05:39.140463Z"
    },
    "scrolled": false
   },
   "outputs": [],
   "source": [
    "summary.describe()"
   ]
  },
  {
   "attachments": {},
   "cell_type": "markdown",
   "metadata": {},
   "source": [
    "On the third graph: \n",
    "    Crime with highest freyquency: Larceny - From Vehicle at 8740\n",
    "    Crime with highest freyquency: Homicide at 69"
   ]
  },
  {
   "attachments": {},
   "cell_type": "markdown",
   "metadata": {},
   "source": [
    "## Graph #4: Frequency of Crimes By Day"
   ]
  },
  {
   "attachments": {},
   "cell_type": "markdown",
   "metadata": {},
   "source": [
    "We want to find the day of the week with the most crime"
   ]
  },
  {
   "cell_type": "code",
   "execution_count": null,
   "metadata": {
    "ExecuteTime": {
     "end_time": "2020-03-02T17:05:45.691100Z",
     "start_time": "2020-03-02T17:05:45.671934Z"
    },
    "scrolled": false
   },
   "outputs": [],
   "source": [
    "date = crime_data['Avg_Day']\n",
    "date_count = date.value_counts(sort = True).to_frame()\n",
    "date_count = date_count.reset_index()\n",
    "date_count.columns = ['Date Type', 'No of Crime']\n",
    "date_count"
   ]
  },
  {
   "attachments": {},
   "cell_type": "markdown",
   "metadata": {},
   "source": [
    "Convert the data into an array for bar chart"
   ]
  },
  {
   "cell_type": "code",
   "execution_count": null,
   "metadata": {
    "ExecuteTime": {
     "end_time": "2020-03-02T17:05:49.710576Z",
     "start_time": "2020-03-02T17:05:49.702527Z"
    },
    "scrolled": false
   },
   "outputs": [],
   "source": [
    "date_type = np.array(date_count['Date Type'])\n",
    "crime_no = np.array(date_count['No of Crime'])"
   ]
  },
  {
   "attachments": {},
   "cell_type": "markdown",
   "metadata": {},
   "source": [
    "Create bar chart"
   ]
  },
  {
   "cell_type": "code",
   "execution_count": null,
   "metadata": {
    "ExecuteTime": {
     "end_time": "2020-03-02T17:05:52.159220Z",
     "start_time": "2020-03-02T17:05:51.943149Z"
    },
    "scrolled": false
   },
   "outputs": [],
   "source": [
    "plt.bar(date_type,crime_no, alpha =0.5)\n",
    "plt.ylabel('Number of Crime')\n",
    "plt.title('Crime Frequency by Date')\n",
    "plt.show()"
   ]
  },
  {
   "attachments": {},
   "cell_type": "markdown",
   "metadata": {},
   "source": [
    "In 4th chart:\n",
    "    Crime happens the most on Saturday\n",
    "    Crime happens least on Thursday"
   ]
  },
  {
   "attachments": {},
   "cell_type": "markdown",
   "metadata": {},
   "source": [
    "## Graph #5: Percentage of Crimes Per Day"
   ]
  },
  {
   "attachments": {},
   "cell_type": "markdown",
   "metadata": {},
   "source": [
    "Show columns in dataframe"
   ]
  },
  {
   "cell_type": "code",
   "execution_count": null,
   "metadata": {
    "ExecuteTime": {
     "end_time": "2020-03-02T17:06:00.713662Z",
     "start_time": "2020-03-02T17:06:00.698058Z"
    },
    "scrolled": false
   },
   "outputs": [],
   "source": [
    "crime_data.columns\n",
    "for col in crime_data.columns:\n",
    "    print(col)"
   ]
  },
  {
   "cell_type": "code",
   "execution_count": null,
   "metadata": {
    "ExecuteTime": {
     "end_time": "2020-03-02T17:06:08.101997Z",
     "start_time": "2020-03-02T17:06:08.090684Z"
    },
    "scrolled": false
   },
   "outputs": [],
   "source": [
    "atl_crime_pd = pd.DataFrame(crime_data)\n",
    "atl_crime_pd.columns"
   ]
  },
  {
   "cell_type": "code",
   "execution_count": null,
   "metadata": {
    "ExecuteTime": {
     "end_time": "2020-03-02T17:06:09.175719Z",
     "start_time": "2020-03-02T17:06:09.154344Z"
    },
    "scrolled": false
   },
   "outputs": [],
   "source": [
    "atl_crime_pd.rename(columns= {'Avg_Day':'Day of Week','Shift':'Day or Night' ,'neighborhood':'Neighborhood', 'UC2 Literal':'Type of Crime'}, inplace=True)"
   ]
  },
  {
   "cell_type": "code",
   "execution_count": null,
   "metadata": {
    "ExecuteTime": {
     "end_time": "2020-03-02T17:06:12.695241Z",
     "start_time": "2020-03-02T17:06:12.670706Z"
    },
    "scrolled": false
   },
   "outputs": [],
   "source": [
    "for col in atl_crime_pd.columns:\n",
    "    print(col)"
   ]
  },
  {
   "attachments": {},
   "cell_type": "markdown",
   "metadata": {},
   "source": [
    "## Graph #6: \"Crime Frequency Distribution By Day\" Bar Graph"
   ]
  },
  {
   "cell_type": "code",
   "execution_count": null,
   "metadata": {
    "ExecuteTime": {
     "end_time": "2020-03-02T19:20:06.775043Z",
     "start_time": "2020-03-02T19:20:06.761940Z"
    },
    "scrolled": false
   },
   "outputs": [],
   "source": [
    "#create series grouped by frequency of days together from the 'atl_crime_pd' dataframe's column 'Day of Week'\n",
    "days_freq = atl_crime_pd.groupby(['Day of Week']).size()\n",
    "days_freq"
   ]
  },
  {
   "cell_type": "code",
   "execution_count": null,
   "metadata": {
    "ExecuteTime": {
     "end_time": "2020-03-02T19:20:07.933550Z",
     "start_time": "2020-03-02T19:20:07.916794Z"
    }
   },
   "outputs": [],
   "source": [
    "#convert single dimension 'days_freq' series, to multi-dimensional 'days_freq' dataframe and reset index\n",
    "days_freq = days_freq.to_frame().reset_index()\n",
    "days_freq"
   ]
  },
  {
   "cell_type": "code",
   "execution_count": null,
   "metadata": {
    "ExecuteTime": {
     "end_time": "2020-03-02T19:20:48.509642Z",
     "start_time": "2020-03-02T19:20:48.495927Z"
    }
   },
   "outputs": [],
   "source": [
    "#Changing the order of the day index to be chronologically sorted Monday to Sunday\n",
    "days_freq.set_axis([4,0,5,6,3,1,2], inplace=True)\n",
    "days_freq"
   ]
  },
  {
   "cell_type": "code",
   "execution_count": null,
   "metadata": {
    "ExecuteTime": {
     "end_time": "2020-03-02T19:20:53.871772Z",
     "start_time": "2020-03-02T19:20:53.847163Z"
    }
   },
   "outputs": [],
   "source": [
    "#Rename column 'Day of Week' to 'Day' and column '0' to 'Freq' in new days_freq dataframe\n",
    "days_freq.columns = ['Day', 'Freq']\n",
    "days_freq"
   ]
  },
  {
   "cell_type": "code",
   "execution_count": null,
   "metadata": {
    "ExecuteTime": {
     "end_time": "2020-03-02T19:20:55.196764Z",
     "start_time": "2020-03-02T19:20:55.183254Z"
    }
   },
   "outputs": [],
   "source": [
    "#sorted dataframe by index to have dataframe now be in chronological order by day\n",
    "days_freq = days_freq.sort_index()\n",
    "days_freq"
   ]
  },
  {
   "cell_type": "code",
   "execution_count": null,
   "metadata": {
    "ExecuteTime": {
     "end_time": "2020-03-02T19:40:43.980322Z",
     "start_time": "2020-03-02T19:40:42.347311Z"
    },
    "scrolled": false
   },
   "outputs": [],
   "source": [
    "fig = plty.bar(days_freq, x='Day', y='Freq', color='Freq', text='Freq')\n",
    "fig.update_traces(texttemplate='%{text:.2s}', textposition='outside', textfont_size=16, marker=dict(line=dict(color='#000000', width=2)))\n",
    "fig.update_layout(uniformtext_minsize=8, uniformtext_mode='hide')\n",
    "fig.show()"
   ]
  },
  {
   "attachments": {},
   "cell_type": "markdown",
   "metadata": {},
   "source": [
    "## Graph #7: Crime Frequency Distribution By Day Pie Graph"
   ]
  },
  {
   "cell_type": "code",
   "execution_count": null,
   "metadata": {
    "ExecuteTime": {
     "end_time": "2020-03-02T20:03:50.647311Z",
     "start_time": "2020-03-02T20:03:50.152241Z"
    },
    "scrolled": false
   },
   "outputs": [],
   "source": [
    "fig = plty.pie(days_freq, values='Freq', names='Day', title='Crime Frequency Distribution By Day')\n",
    "fig.update_traces(textposition='inside', textinfo='percent+label',\n",
    "                  textfont_size=16, marker=dict(line=dict(color='#000000', width=2)))\n",
    "fig.show()"
   ]
  },
  {
   "attachments": {},
   "cell_type": "markdown",
   "metadata": {},
   "source": [
    "## Graph #8 and #9: Type of Crime/Day Frequency Distribution Sunburst Graphs"
   ]
  },
  {
   "cell_type": "code",
   "execution_count": null,
   "metadata": {
    "ExecuteTime": {
     "end_time": "2020-03-02T22:36:07.860429Z",
     "start_time": "2020-03-02T22:36:07.839170Z"
    }
   },
   "outputs": [],
   "source": [
    "\"\"\"Using groupby to group columns 'Type of Crime' and 'Day of Week'... \n",
    "for finding the frequency of the crime types during days of the week...\n",
    "then converting the series produced to a dataframe for handling\n",
    "\"\"\"\n",
    "crime_type_day_freq = atl_crime_pd.groupby(['Type of Crime', 'Day of Week']).size()\n",
    "crime_type_day_freq"
   ]
  },
  {
   "cell_type": "code",
   "execution_count": null,
   "metadata": {
    "ExecuteTime": {
     "end_time": "2020-03-02T22:36:08.434041Z",
     "start_time": "2020-03-02T22:36:08.405035Z"
    }
   },
   "outputs": [],
   "source": [
    "crime_type_day_freq = crime_type_day_freq.to_frame().reset_index()\n",
    "crime_type_day_freq"
   ]
  },
  {
   "cell_type": "code",
   "execution_count": null,
   "metadata": {
    "ExecuteTime": {
     "end_time": "2020-03-02T22:36:09.121545Z",
     "start_time": "2020-03-02T22:36:09.106817Z"
    }
   },
   "outputs": [],
   "source": [
    "crime_type_day_freq.columns"
   ]
  },
  {
   "cell_type": "code",
   "execution_count": null,
   "metadata": {
    "ExecuteTime": {
     "end_time": "2020-03-02T22:36:09.635018Z",
     "start_time": "2020-03-02T22:36:09.609920Z"
    }
   },
   "outputs": [],
   "source": [
    "#Renamed columns in dataframe 'crime_type_day_freq' to \"Type of Crime\", \"Day\", and \"Freq\"\n",
    "crime_type_day_freq.columns = ['Type of Crime', 'Day', 'Freq']\n",
    "crime_type_day_freq"
   ]
  },
  {
   "cell_type": "code",
   "execution_count": null,
   "metadata": {
    "ExecuteTime": {
     "end_time": "2020-03-02T22:36:12.396284Z",
     "start_time": "2020-03-02T22:36:12.386973Z"
    }
   },
   "outputs": [],
   "source": [
    "dayOfWeekOrderDict = {\"Mon\":0, \"Tue\":1, \"Wed\":2, \"Thu\":3, \"Fri\":4, \"Sat\":5, \"Sun\":6}\n",
    "dayOfWeekOrderDict"
   ]
  },
  {
   "cell_type": "code",
   "execution_count": null,
   "metadata": {
    "ExecuteTime": {
     "end_time": "2020-03-02T22:36:51.311401Z",
     "start_time": "2020-03-02T22:36:51.288916Z"
    }
   },
   "outputs": [],
   "source": [
    "crime_type_day_freq[\"DayNum\"]=\"\"\n",
    "crime_type_day_freq"
   ]
  },
  {
   "cell_type": "code",
   "execution_count": null,
   "metadata": {
    "ExecuteTime": {
     "end_time": "2020-03-02T22:39:49.860108Z",
     "start_time": "2020-03-02T22:39:49.849572Z"
    }
   },
   "outputs": [],
   "source": [
    "for key in range(len(crime_type_day_freq)):\n",
    "    if crime_type_day_freq.loc[:,'DayNum'][key] in dayOfWeekOrderDict:\n",
    "        crime_type_day_freq.loc[:,'DayNum'][key] = dayOfWeekOrderDict.get(crime_type_day_freq[\"Day\"][key]) "
   ]
  },
  {
   "cell_type": "code",
   "execution_count": null,
   "metadata": {
    "ExecuteTime": {
     "end_time": "2020-03-02T22:39:53.198441Z",
     "start_time": "2020-03-02T22:39:53.179020Z"
    }
   },
   "outputs": [],
   "source": [
    "crime_type_day_freq"
   ]
  },
  {
   "cell_type": "code",
   "execution_count": null,
   "metadata": {
    "ExecuteTime": {
     "end_time": "2020-03-02T22:39:59.101434Z",
     "start_time": "2020-03-02T22:39:59.074878Z"
    }
   },
   "outputs": [],
   "source": [
    "crime_type_day_freq.sort_values(by=['Type of Crime','DayNum'], inplace=True)\n",
    "crime_type_day_freq"
   ]
  },
  {
   "cell_type": "code",
   "execution_count": null,
   "metadata": {
    "ExecuteTime": {
     "end_time": "2020-03-02T22:42:42.846360Z",
     "start_time": "2020-03-02T22:42:40.851572Z"
    },
    "scrolled": false
   },
   "outputs": [],
   "source": [
    "fig = px.sunburst(crime_type_day_freq, path=['Type of Crime', 'Day'], values='Freq', \n",
    "                  color='Type of Crime',color_continuous_scale='RdBu')\n",
    "fig.show()"
   ]
  },
  {
   "cell_type": "code",
   "execution_count": null,
   "metadata": {
    "ExecuteTime": {
     "end_time": "2020-03-02T21:59:25.654758Z",
     "start_time": "2020-03-02T21:59:25.209587Z"
    }
   },
   "outputs": [],
   "source": [
    "fig = px.sunburst(crime_type_day_freq, path=['Day', 'Type of Crime'], values='Freq')\n",
    "fig.show()"
   ]
  }
 ],
 "metadata": {
  "kernelspec": {
   "display_name": "Python 3 (ipykernel)",
   "language": "python",
   "name": "python3"
  },
  "language_info": {
   "codemirror_mode": {
    "name": "ipython",
    "version": 3
   },
   "file_extension": ".py",
   "mimetype": "text/x-python",
   "name": "python",
   "nbconvert_exporter": "python",
   "pygments_lexer": "ipython3",
   "version": "3.10.9"
  },
  "toc": {
   "base_numbering": 1,
   "nav_menu": {},
   "number_sections": true,
   "sideBar": true,
   "skip_h1_title": false,
   "title_cell": "Table of Contents",
   "title_sidebar": "Contents",
   "toc_cell": false,
   "toc_position": {},
   "toc_section_display": true,
   "toc_window_display": false
  },
  "varInspector": {
   "cols": {
    "lenName": 16,
    "lenType": 16,
    "lenVar": 40
   },
   "kernels_config": {
    "python": {
     "delete_cmd_postfix": "",
     "delete_cmd_prefix": "del ",
     "library": "var_list.py",
     "varRefreshCmd": "print(var_dic_list())"
    },
    "r": {
     "delete_cmd_postfix": ") ",
     "delete_cmd_prefix": "rm(",
     "library": "var_list.r",
     "varRefreshCmd": "cat(var_dic_list()) "
    }
   },
   "position": {
    "height": "812px",
    "left": "1558px",
    "right": "20px",
    "top": "120px",
    "width": "342px"
   },
   "types_to_exclude": [
    "module",
    "function",
    "builtin_function_or_method",
    "instance",
    "_Feature"
   ],
   "window_display": true
  }
 },
 "nbformat": 4,
 "nbformat_minor": 2
}
